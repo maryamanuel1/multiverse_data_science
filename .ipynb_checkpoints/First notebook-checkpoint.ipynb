{
 "cells": [
  {
   "cell_type": "code",
   "execution_count": 1,
   "id": "3e4577c3",
   "metadata": {},
   "outputs": [
    {
     "name": "stdout",
     "output_type": "stream",
     "text": [
      "Hello World, it's Mary\n"
     ]
    }
   ],
   "source": [
    "print(\"Hello World, it's Mary\")"
   ]
  },
  {
   "cell_type": "code",
   "execution_count": 1,
   "id": "53943c48",
   "metadata": {},
   "outputs": [],
   "source": [
    "x = 2"
   ]
  },
  {
   "cell_type": "code",
   "execution_count": 2,
   "id": "2c3b0ec9",
   "metadata": {},
   "outputs": [
    {
     "data": {
      "text/plain": [
       "True"
      ]
     },
     "execution_count": 2,
     "metadata": {},
     "output_type": "execute_result"
    }
   ],
   "source": [
    "x == 2"
   ]
  },
  {
   "cell_type": "code",
   "execution_count": 3,
   "id": "8f8288f0",
   "metadata": {},
   "outputs": [],
   "source": [
    "y = 'hello world'"
   ]
  },
  {
   "cell_type": "code",
   "execution_count": 4,
   "id": "71a4394a",
   "metadata": {},
   "outputs": [
    {
     "name": "stdout",
     "output_type": "stream",
     "text": [
      "hello world\n"
     ]
    }
   ],
   "source": [
    "print(y)\n"
   ]
  },
  {
   "cell_type": "code",
   "execution_count": null,
   "id": "02697f18",
   "metadata": {},
   "outputs": [],
   "source": [
    "a = 1\n",
    "b - 2,6\n",
    "c = [1,2,3,4,5,6]\n",
    "d = {\"amanuel : 'm', 'highschool: S'}\n",
    "f = {1:\"key\": \"value\"}, 2 {key 2 : \"value2'}}"
   ]
  }
 ],
 "metadata": {
  "kernelspec": {
   "display_name": "Python 3",
   "language": "python",
   "name": "python3"
  },
  "language_info": {
   "codemirror_mode": {
    "name": "ipython",
    "version": 3
   },
   "file_extension": ".py",
   "mimetype": "text/x-python",
   "name": "python",
   "nbconvert_exporter": "python",
   "pygments_lexer": "ipython3",
   "version": "3.8.8"
  }
 },
 "nbformat": 4,
 "nbformat_minor": 5
}
